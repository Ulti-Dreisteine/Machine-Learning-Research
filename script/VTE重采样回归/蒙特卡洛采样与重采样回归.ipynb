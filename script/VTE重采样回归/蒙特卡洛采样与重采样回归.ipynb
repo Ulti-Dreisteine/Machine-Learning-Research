{
 "cells": [
  {
   "attachments": {},
   "cell_type": "markdown",
   "metadata": {},
   "source": [
    "### **蒙特卡洛采样与重采样回归**"
   ]
  },
  {
   "attachments": {},
   "cell_type": "markdown",
   "metadata": {},
   "source": [
    "#### **一、蒙特卡洛采样方法**\n",
    "\n",
    "##### **1.1 直接采样**\n",
    "\n",
    "当**待采样的概率密度函数PDF已知**时：\n",
    "1. 首先将PDF转换为累积分布密度函数CDF，对应的值域为 $[0, 1]$；\n",
    "2. 从均匀分布 $\\rm{Uniform}(0, 1)$ 中进行采样, 获得 $x$，然后根据 $x$ 从CDF中方向求解出一个样本 $y$；\n",
    "3. 对以上第2步进行重复，便获得了一系列 $N$ 个满足对应PDF分布的样本。\n",
    "\n",
    "注意，此方法仅适用于PDF已知的情形。\n",
    "\n",
    "<img src=\"fig_1.png\" width=600>"
   ]
  },
  {
   "attachments": {},
   "cell_type": "markdown",
   "metadata": {},
   "source": [
    "##### **1.2 接受-拒绝采样**\n",
    "\n",
    "对于某概率分布 $p(Z)$，引入一个简单的提议（proposal）分布 $q(Z)$，使得对于 $\\forall z_i \\in Z$，$M \\cdot q(z_i) \\geq p(z_i)$，其中 $M$ 为某常数。这样一来便可通过提议分布 $q(Z)$ 实现对 $p(Z)$ 的采样：\n",
    "1. 取 $z_i \\sim q(Z)$；\n",
    "2. 计算此时的接受率：\n",
    "   $\\alpha = p(z_i) / (M \\cdot q(z_i))$\n",
    "3. "
   ]
  },
  {
   "attachments": {},
   "cell_type": "markdown",
   "metadata": {},
   "source": [
    "##### **1.3 重要性采样**\n",
    "\n",
    "（待补充）"
   ]
  }
 ],
 "metadata": {
  "language_info": {
   "name": "python"
  },
  "orig_nbformat": 4
 },
 "nbformat": 4,
 "nbformat_minor": 2
}
