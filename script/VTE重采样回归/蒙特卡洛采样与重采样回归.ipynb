{
 "cells": [
  {
   "attachments": {},
   "cell_type": "markdown",
   "metadata": {},
   "source": [
    "### **蒙特卡洛采样与重采样回归**"
   ]
  },
  {
   "attachments": {},
   "cell_type": "markdown",
   "metadata": {},
   "source": [
    "#### **一、蒙特卡洛采样方法**\n",
    "\n",
    "##### **1.1 直接采样**\n",
    "\n",
    "当**待采样的概率密度函数PDF已知**时：\n",
    "1. 首先将PDF转换为累积分布密度函数CDF，对应的值域为 $[0, 1]$；\n",
    "2. 从均匀分布 $\\rm{Uniform}(0, 1)$ 中进行采样, 获得 $x$，然后根据 $x$ 从CDF中方向求解出一个样本 $y$；\n",
    "3. 对以上第2步进行重复，便获得了一系列 $N$ 个满足对应PDF分布的样本。\n",
    "\n",
    "注意，此方法仅适用于PDF已知的情形。\n",
    "\n",
    "<img src=\"fig_1.png\" width=600>"
   ]
  },
  {
   "attachments": {},
   "cell_type": "markdown",
   "metadata": {},
   "source": [
    "##### **1.2 接受-拒绝采样**\n",
    "\n",
    "对于某概率分布 $p(Z)$，引入一个简单的提议（proposal）分布 $q(Z)$，使得对于 $\\forall z_i \\in Z$，$M \\cdot q(z_i) \\geq p(z_i)$，其中 $M$ 为某常数。这样一来便可通过提议分布 $q(Z)$ 实现对 $p(Z)$ 的采样：\n",
    "1. 取 $z_i \\sim q(Z)$；\n",
    "2. 计算此时的接受率：\n",
    "   $\\alpha = p(z_i) / (M \\cdot q(z_i))$\n",
    "3. 从均匀分布中采样 $u \\sim \\rm{Uniform}(0, 1)$，如果 $u \\leq \\alpha$，则接受 $z_i$；否则，拒绝 $z_i$，不放入样本集；\n",
    "4. 重复以上1至3步，获得对 $p(Z)$ 的采样。"
   ]
  },
  {
   "attachments": {},
   "cell_type": "markdown",
   "metadata": {},
   "source": [
    "思考：\n",
    "1. 接受-拒绝采样算法的物理意义是什么？可通过蒙特卡洛积分求解来回答；\n",
    "2. $M$ 取值过大或过小对于采样准确性和效率的影响？\n",
    "3. 重采样回归算例介绍"
   ]
  },
  {
   "attachments": {},
   "cell_type": "markdown",
   "metadata": {},
   "source": [
    "##### **1.3 重要性采样**\n",
    "\n",
    "以上1.1和1.2中的两种采样都是为了对概率分布 $p$ 进行采样，而本节重要性采样则是对某符合 $p$ 的变量 $$ 对应函数值 $f(z)$ 的期望 $\\mathbb{E}_{p(z)}[f(z)]$ 进行采样：\n",
    "\n",
    "$$\n",
    "\\begin{aligned}\n",
    "\\mathbb{E}_{p(z)}[f(z)] &= \\int{f(z) p(z){\\rm d}z} \\\\\n",
    "    &= \\int{f(z) \\frac{p(z)}{q(z)}q(z){\\rm d}z} \\\\\n",
    "    &\\approx \\frac{1}{N} \\sum_{i=1}^{N}{f(z_i)\\frac{p(z_i)}{q(z_i)}} \\\\\n",
    "z_i &\\sim q(Z), i=1,2,\\cdots, N \\\\\n",
    "\\end{aligned}\n",
    "$$\n",
    "\n",
    "其中，$p(z_i) / q(z_i)$ 被称为重要性值，衡量了不同 $z_i$ 取值所得 $f(z_i)$ 对于 $f(z)$ 整体期望的影响。"
   ]
  },
  {
   "attachments": {},
   "cell_type": "markdown",
   "metadata": {},
   "source": [
    "#### **二、蒙特卡洛-马尔可夫链采样方法**\n",
    "\n",
    "##### **2.1 MCMC采样**\n",
    "\n",
    "常用于对高维复杂的概率分布进行采样\n",
    "\n",
    "##### **2.2 Metropolis-Hastings采样**\n",
    "\n",
    "在MCMC基础上提高了采样效率\n",
    "\n",
    "##### **2.3 Gibbs采样**\n",
    "\n",
    "将每步高维采样分解为多步连贯的低维采样"
   ]
  }
 ],
 "metadata": {
  "language_info": {
   "name": "python"
  },
  "orig_nbformat": 4
 },
 "nbformat": 4,
 "nbformat_minor": 2
}
