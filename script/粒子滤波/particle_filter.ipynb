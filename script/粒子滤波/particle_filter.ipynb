{
 "cells": [
  {
   "cell_type": "markdown",
   "metadata": {},
   "source": [
    "#### **一、粒子滤波原理**"
   ]
  },
  {
   "cell_type": "markdown",
   "metadata": {},
   "source": [
    "粒子滤波（particle filter, PF）可以解决**从样本反推分布**的问题：对于一个无法显式表达的复杂分布，利用一系列采样粒子对其进行表示，样本在那个区间分布得更密集，则在对应区域内的概率密度越大。相比于参数滤波，PF是非参滤波方法，可以应对非线性变换。"
   ]
  },
  {
   "cell_type": "markdown",
   "metadata": {},
   "source": [
    "<img src=\"PF使用样本反推分布的示意图.png\" width=\"400\" align=\"left\"/>"
   ]
  },
  {
   "cell_type": "markdown",
   "metadata": {},
   "source": [
    "几个关键量：\n",
    "\n",
    "1. 上一时刻$t-1$和当前时刻$t$的$M$个粒子：$\\cal{X}_{t-1}$和$\\cal{X}_{t}$\n",
    "   \n",
    "   $$\\cal{X}_{t-1} = x_{t-1}^{[1]}, x_{t-1}^{[2]}, \\cdots, x_{t-1}^{[\\it M]}$$\n",
    "   $$\\cal{X}_{t} = x_{t}^{[1]}, x_{t}^{[2]}, \\cdots, x_{t}^{[\\it M]}$$\n",
    "\n",
    "2. 当前时刻{t}的控制和噪声因素：$u_t$\n",
    "3. 当前时刻{t}的观测结果：$z_t$"
   ]
  },
  {
   "cell_type": "markdown",
   "metadata": {},
   "source": [
    "在当前时刻被选入粒子集的概率取决于分布<font color=\"red\">（这段没搞明白）</font>：\n",
    "\n",
    "$$x_{t}^{[\\it m]} \\sim p(x_t|z_{1:t}, u_{1:t})$$"
   ]
  },
  {
   "cell_type": "markdown",
   "metadata": {},
   "source": [
    "#### **二、当前时刻的粒子滤波**"
   ]
  },
  {
   "cell_type": "markdown",
   "metadata": {},
   "source": [
    "根据上一时刻的粒子$\\cal{X_{t-1}}$、本时刻的控制与噪声$u_t$以及观测结果$z_t$，对本时刻粒子$\\cal{X}_t$进行估计：\n",
    "\n",
    "$$x_{t}^{[m]} \\sim p(x_t|\\cal{X}_{t-1}, u_t, z_t)$$"
   ]
  },
  {
   "cell_type": "markdown",
   "metadata": {},
   "source": [
    "在一个输入输出过程中，如何通过实际的输出观测值，反推输入的分布情况。采用迭代收敛于最终分布。"
   ]
  },
  {
   "cell_type": "markdown",
   "metadata": {},
   "source": [
    "有一个输入输出模型$f$，控制和噪声为$u_t$，输入为$\\cal{X}_{t-1}$，观测到输出为$z_t$，需要对对应的输入分布进行估计。需要不断输入粒子，预测，重采样，然后循环稳定。"
   ]
  },
  {
   "cell_type": "code",
   "execution_count": null,
   "metadata": {
    "vscode": {
     "languageId": "plaintext"
    }
   },
   "outputs": [],
   "source": []
  }
 ],
 "metadata": {
  "language_info": {
   "name": "python"
  },
  "orig_nbformat": 4
 },
 "nbformat": 4,
 "nbformat_minor": 2
}
